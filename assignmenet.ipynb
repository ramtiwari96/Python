{
 "cells": [
  {
   "cell_type": "markdown",
   "id": "77737d7f",
   "metadata": {},
   "source": [
    "# Q. Write a Python script to concatenate the following dictionaries to create a new one.\n",
    "\n",
    "    Input:\n",
    "    dic1= {1:10, 2:20}\n",
    "    dic2= {3:30, 4:40}\n",
    "    dic3={5:50,6:60}\n",
    "    Output: {1: 10, 2: 20, 3: 30, 4: 40, 5: 50, 6: 60}"
   ]
  },
  {
   "cell_type": "code",
   "execution_count": 6,
   "id": "62c5bf59",
   "metadata": {},
   "outputs": [
    {
     "data": {
      "text/plain": [
       "{1: 10, 2: 20, 3: 30, 4: 40, 5: 50, 6: 60}"
      ]
     },
     "execution_count": 6,
     "metadata": {},
     "output_type": "execute_result"
    }
   ],
   "source": [
    "dic1= {1:10, 2:20}\n",
    "dic2= {3:30, 4:40}\n",
    "dic3={5:50,6:60}\n",
    "\n",
    "dic4 = {**dic1,**dic2,**dic3}\n",
    "dic4"
   ]
  },
  {
   "cell_type": "code",
   "execution_count": 11,
   "id": "a9612020",
   "metadata": {},
   "outputs": [],
   "source": [
    "def Merge(dic1, dic2,dic3):\n",
    "\tresult = dic1 | dic2 | dic3\n",
    "\treturn result"
   ]
  },
  {
   "cell_type": "code",
   "execution_count": 12,
   "id": "0122137b",
   "metadata": {},
   "outputs": [
    {
     "data": {
      "text/plain": [
       "{1: 10, 2: 20, 3: 30, 4: 40, 5: 50, 6: 60}"
      ]
     },
     "execution_count": 12,
     "metadata": {},
     "output_type": "execute_result"
    }
   ],
   "source": [
    "dic1= {1:10, 2:20}\n",
    "dic2= {3:30, 4:40}\n",
    "dic3={5:50,6:60}\n",
    "dic4=Merge(dic1,dic2,dic3)\n",
    "dic4"
   ]
  },
  {
   "cell_type": "markdown",
   "id": "03cb16ba",
   "metadata": {},
   "source": [
    "# Q. Write a Python program to remove duplicates from the dictionary.\n",
    "\n",
    "    Input: {'a': 1, 'b': 2, 'c': 1, 'd': 3, 'e': 2, 'f': 4}\n",
    "    Output: {'a': 1, 'b': 2, 'd': 3, 'f': 4}"
   ]
  },
  {
   "cell_type": "code",
   "execution_count": 13,
   "id": "5a4a5334",
   "metadata": {},
   "outputs": [
    {
     "name": "stdout",
     "output_type": "stream",
     "text": [
      "{'a': 1, 'b': 2, 'd': 3, 'f': 4}\n"
     ]
    }
   ],
   "source": [
    "d = {'a': 1, 'b': 2, 'c': 1, 'd': 3, 'e': 2, 'f': 4}\n",
    "\n",
    "result = {}\n",
    "\n",
    "for key,value in d.items():\n",
    "    if value not in result.values():\n",
    "        result[key] = value\n",
    "\n",
    "print(result)"
   ]
  },
  {
   "cell_type": "markdown",
   "id": "54f655aa",
   "metadata": {},
   "source": [
    "# Q. Write a Python program to drop empty items from a given dictionary.\n",
    "\n",
    "    Input: {'c1': 'Red', 'c2': 'Green', 'c3': None}\n",
    "    Output: {'c1': 'Red', 'c2': 'Green'}"
   ]
  },
  {
   "cell_type": "code",
   "execution_count": 16,
   "id": "3e52276c",
   "metadata": {},
   "outputs": [
    {
     "name": "stdout",
     "output_type": "stream",
     "text": [
      "{'c1': 'Red', 'c2': 'Green'}\n"
     ]
    }
   ],
   "source": [
    "dict1 = {'c1': 'Red', 'c2': 'Green', 'c3':None}\n",
    "\n",
    "\n",
    "dict1 = {key:value for (key, value) in dict1.items() if value is not None}\n",
    "print(dict1)"
   ]
  },
  {
   "cell_type": "markdown",
   "id": "9f090026",
   "metadata": {},
   "source": [
    "# Q. Write a Python program to filter a dictionary based on values>170\n",
    "\n",
    "    Input : {'Cierra Vega': 175, 'Alden Cantrell': 180, 'Kierra Gentry': 165, 'PierreCox': 190}\n",
    "    Output : {'Cierra Vega': 175, 'Alden Cantrell': 180, 'Pierre Cox': 190}"
   ]
  },
  {
   "cell_type": "code",
   "execution_count": 20,
   "id": "7ae948c2",
   "metadata": {},
   "outputs": [
    {
     "name": "stdout",
     "output_type": "stream",
     "text": [
      "{'Cierra Vega': 175, 'Alden Cantrell': 180, 'Kierra Gentry': 165, 'PierreCox': 190}\n"
     ]
    },
    {
     "data": {
      "text/plain": [
       "{'Cierra Vega': 175, 'Alden Cantrell': 180, 'PierreCox': 190}"
      ]
     },
     "execution_count": 20,
     "metadata": {},
     "output_type": "execute_result"
    }
   ],
   "source": [
    "d ={'Cierra Vega': 175, 'Alden Cantrell': 180, 'Kierra Gentry': 165, 'PierreCox': 190}\n",
    "print(d)\n",
    "\n",
    "d1 ={key:value for (key,value) in d.items() if value>170}\n",
    "d1"
   ]
  },
  {
   "cell_type": "markdown",
   "id": "720241e9",
   "metadata": {},
   "source": [
    "# Q. Write a Python program to verify that all values in a dictionary are the same.\n",
    "\n",
    "    Input: {'Cierra Vega': 12, 'Alden Cantrell': 12, 'Kierra Gentry': 12, 'Pierre Cox':12}\n",
    "    Output: “ All values are 12”\n"
   ]
  },
  {
   "cell_type": "code",
   "execution_count": 23,
   "id": "f63b64d3",
   "metadata": {},
   "outputs": [
    {
     "name": "stdout",
     "output_type": "stream",
     "text": [
      "All value are 12\n"
     ]
    }
   ],
   "source": [
    "d={'Cierra Vega': 12, 'Alden Cantrell': 12, 'Kierra Gentry': 12, 'Pierre Cox':12}\n",
    "\n",
    "val = all(value == 12 for value in d.values())\n",
    "if val:\n",
    "    print(\"All value are 12\")\n",
    "else:\n",
    "    print(\"All value not same\")"
   ]
  },
  {
   "cell_type": "markdown",
   "id": "4777321e",
   "metadata": {},
   "source": [
    "# Q. Write a Python program to convert string values of a given dictionary intointeger/float datatypes.\n",
    "\n",
    "    INPUT:\n",
    "    [{'x': '10', 'y': '20', 'z': '30'}, {'p': '40', 'q': '50', 'r': '60'}]\n",
    "    OUTPUT:\n",
    "    String values of a given dictionary, into integer types:\n",
    "    [{'x': 10, 'y': 20, 'z': 30}, {'p': 40, 'q': 50, 'r': 60}]\n",
    "    String values of a given dictionary, into float types:\n",
    "    [{'x': 10.12, 'y': 20.23, 'z': 30.0}, {'p': 40.0, 'q': 50.19, 'r': 60.99}]"
   ]
  },
  {
   "cell_type": "code",
   "execution_count": 30,
   "id": "f6db0e92",
   "metadata": {},
   "outputs": [
    {
     "name": "stdout",
     "output_type": "stream",
     "text": [
      "Original list:\n",
      "[{'x': '10', 'y': '20', 'z': '30'}, {'p': '40', 'q': '50', 'r': '60'}]\n",
      "\n",
      "String values of a given dictionary, into integer types:\n",
      "[{'x': 10, 'y': 20, 'z': 30}, {'p': 40, 'q': 50, 'r': 60}]\n",
      "\n",
      "Original list:\n",
      "[{'x': '10.12', 'y': '20.23', 'z': '30'}, {'p': '40.00', 'q': '50.19', 'r': '60.99'}]\n",
      "\n",
      "String values of a given dictionary, into float types:\n",
      "[{'x': 10.12, 'y': 20.23, 'z': 30.0}, {'p': 40.0, 'q': 50.19, 'r': 60.99}]\n"
     ]
    }
   ],
   "source": [
    "d =[{'x': '10', 'y': '20', 'z': '30'}, {'p': '40', 'q': '50', 'r': '60'}]\n",
    "def convert_to_int(lst):\n",
    "    result = [dict([a, int(x)] for a, x in b.items()) for b in lst]\n",
    "    return result\n",
    "\n",
    "def convert_to_float(lst):\n",
    "    result = [dict([a, float(x)] for a, x in b.items()) for b in lst]\n",
    "    return result\n",
    "\n",
    "nums =[{ 'x':'10' , 'y':'20' , 'z':'30' }, { 'p':'40', 'q':'50', 'r':'60'}]\n",
    "print(\"Original list:\")\n",
    "print(nums)\n",
    "print(\"\\nString values of a given dictionary, into integer types:\")\n",
    "print(convert_to_int(nums))\n",
    "nums =[{ 'x':'10.12', 'y':'20.23', 'z':'30'}, { 'p':'40.00', 'q':'50.19', 'r':'60.99'}]\n",
    "print(\"\\nOriginal list:\")\n",
    "print(nums)\n",
    "print(\"\\nString values of a given dictionary, into float types:\")\n",
    "print(convert_to_float(nums))\n"
   ]
  },
  {
   "cell_type": "markdown",
   "id": "fe602825",
   "metadata": {},
   "source": [
    "# Q. Write a Python program to filter even numbers from a dictionary of values.\n",
    "    \n",
    "    INPUT:\n",
    "    {'V': [1, 4, 6, 10], 'VI': [1, 4, 12], 'VII': [1, 3, 8]}\n",
    "    OUTPUT:\n",
    "    {'V': [4, 6, 10], 'VI': [4, 12], 'VII': [8]}"
   ]
  },
  {
   "cell_type": "code",
   "execution_count": 35,
   "id": "ad20599a",
   "metadata": {},
   "outputs": [],
   "source": [
    "\n",
    "def test(dictt):\n",
    "    result = {key: [idx for idx in val if not idx % 2]  \n",
    "          for key, val in dictt.items()}   \n",
    "    return result "
   ]
  },
  {
   "cell_type": "code",
   "execution_count": 36,
   "id": "ec80b1a1",
   "metadata": {},
   "outputs": [
    {
     "data": {
      "text/plain": [
       "{'V': [4, 6, 10], 'VI': [4, 12], 'VII': [8]}"
      ]
     },
     "execution_count": 36,
     "metadata": {},
     "output_type": "execute_result"
    }
   ],
   "source": [
    "d = {'V': [1, 4, 6, 10], 'VI': [1, 4, 12], 'VII': [1, 3, 8]}\n",
    "test(d)"
   ]
  },
  {
   "cell_type": "markdown",
   "id": "b2a18d5c",
   "metadata": {},
   "source": [
    "# . Write a Python program to count the number of characters (character frequency) in a string.\n",
    "\n",
    "    INPUT: google.com\n",
    "    OUTPUT: {'g': 2, 'o': 3, 'l': 1, 'e': 1, '.': 1, 'c': 1, 'm': 1}\n"
   ]
  },
  {
   "cell_type": "code",
   "execution_count": 46,
   "id": "f4609598",
   "metadata": {},
   "outputs": [
    {
     "name": "stdout",
     "output_type": "stream",
     "text": [
      "{'g': 2, 'o': 3, 'l': 1, 'e': 1, '.': 1, 'c': 1, 'm': 1}\n"
     ]
    }
   ],
   "source": [
    "s = \"google.com\"\n",
    "def char_frequency(str1):\n",
    "    dict = {}\n",
    "    for n in str1:\n",
    "        keys = dict.keys()\n",
    "        if n in keys:\n",
    "            dict[n] += 1\n",
    "        else:\n",
    "            dict[n] = 1\n",
    "    return dict\n",
    "print(char_frequency(s))"
   ]
  },
  {
   "cell_type": "markdown",
   "id": "bf9b9d30",
   "metadata": {},
   "source": [
    "# Q. Write a Python program to get a string made of the first 2 and last 2 characters of a given string. If the string length is less than 2, return the empty string instead.\n",
    "\n",
    "    INPUT: 'w3resource'\n",
    "    OUTPUT : 'w3ce'\n",
    "    INPUT: 'w3'\n",
    "    OUTPUT: 'w3w3'"
   ]
  },
  {
   "cell_type": "code",
   "execution_count": 91,
   "id": "76b50ffe",
   "metadata": {},
   "outputs": [
    {
     "name": "stdout",
     "output_type": "stream",
     "text": [
      "w3ce\n"
     ]
    }
   ],
   "source": [
    "s =\"w3resource\"\n",
    "def count_word(s):\n",
    "    \n",
    "    if len(s)<=2:\n",
    "        a =s[0:2]\n",
    "        b =s[0:2]\n",
    "        print(a+b)\n",
    "    else:\n",
    "        a =s[0:2]\n",
    "        b =s[-2:]\n",
    "        print(a+b)\n",
    "count_word(s)"
   ]
  },
  {
   "cell_type": "markdown",
   "id": "061e4dcd",
   "metadata": {},
   "source": [
    "# Q. Write a Python program to remove the 5th index character from a nonempty string.\n",
    "\n",
    "    INPUT:’Python’\n",
    "    OUTPUT: Pytho\n"
   ]
  },
  {
   "cell_type": "code",
   "execution_count": 98,
   "id": "194d16a7",
   "metadata": {},
   "outputs": [
    {
     "name": "stdout",
     "output_type": "stream",
     "text": [
      "pytho\n"
     ]
    }
   ],
   "source": [
    "def remove_char(str, n):\n",
    "      first_part = str[:n] \n",
    "      last_part = str[n+1:]\n",
    "      return first_part + last_part\n",
    "s = \"python\"\n",
    "print(remove_char(s, 5))"
   ]
  },
  {
   "cell_type": "markdown",
   "id": "0e5d9f22",
   "metadata": {},
   "source": [
    "# Q. Write a Python program to count the occurrences of each word in a given sentence.\n",
    "\n",
    "    INPUT: ‘the quick brown fox jumps over the lazy dog.’\n",
    "    OUTPUT: {'the': 2, 'jumps': 1, 'brown': 1, 'lazy': 1, 'fox': 1, 'over': 1, 'quick': 1,'dog.': 1}"
   ]
  },
  {
   "cell_type": "code",
   "execution_count": 101,
   "id": "f5646bb9",
   "metadata": {},
   "outputs": [
    {
     "name": "stdout",
     "output_type": "stream",
     "text": [
      "{'t': 2, 'h': 2, 'e': 3, ' ': 8, 'q': 1, 'u': 2, 'i': 1, 'c': 1, 'k': 1, 'b': 1, 'r': 2, 'o': 4, 'w': 1, 'n': 1, 'f': 1, 'x': 1, 'j': 1, 'm': 1, 'p': 1, 's': 1, 'v': 1, 'l': 1, 'a': 1, 'z': 1, 'y': 1, 'd': 1, 'g': 1, '.': 1}\n"
     ]
    }
   ],
   "source": [
    "s =\"the quick brown fox jumps over the lazy dog.\"\n",
    "def char_frequency(str1):\n",
    "    dict = {}\n",
    "    for n in str1:\n",
    "        keys = dict.keys()\n",
    "        if n in keys:\n",
    "            dict[n] += 1\n",
    "        else:\n",
    "            dict[n] = 1\n",
    "    return dict\n",
    "print(char_frequency(s))"
   ]
  },
  {
   "cell_type": "markdown",
   "id": "4bb9d937",
   "metadata": {},
   "source": [
    "# Q. Write a Python function to reverse a string if its length is a multiple of 4.\n",
    "\n",
    "    INPUT:’python’\n",
    "\n",
    "    OUTPUT:’nohtyp’"
   ]
  },
  {
   "cell_type": "code",
   "execution_count": 102,
   "id": "89e4ca92",
   "metadata": {},
   "outputs": [
    {
     "name": "stdout",
     "output_type": "stream",
     "text": [
      "nohtyp\n"
     ]
    }
   ],
   "source": [
    "s = \"python\"\n",
    "\n",
    "print(s[::-1])"
   ]
  },
  {
   "cell_type": "markdown",
   "id": "dbf9d71a",
   "metadata": {},
   "source": [
    "# Q. Write a Python program to check whether a string starts with specified characters (grow)\n",
    "\n",
    "    INPUT:” growdataskills”\n",
    "    OUTPUT: TRUE"
   ]
  },
  {
   "cell_type": "code",
   "execution_count": 115,
   "id": "7abb704a",
   "metadata": {},
   "outputs": [
    {
     "name": "stdout",
     "output_type": "stream",
     "text": [
      "TRUE\n"
     ]
    }
   ],
   "source": [
    "s = \"growdataskills\"\n",
    "\n",
    "if s[0:4] == \"grow\":\n",
    "    print(\"TRUE\")\n",
    "else:\n",
    "   print(\"False\")"
   ]
  },
  {
   "cell_type": "markdown",
   "id": "2757b113",
   "metadata": {},
   "source": [
    "# Q. Write a Python program to reverse words in a string.\n",
    "\n",
    "    INPUT: \"The quick brown fox jumps over the lazy dog.\"\n",
    "    OUPUT: “dog. lazy the over jumps fox brown quick The”"
   ]
  },
  {
   "cell_type": "code",
   "execution_count": 117,
   "id": "ac597117",
   "metadata": {},
   "outputs": [
    {
     "data": {
      "text/plain": [
       "'dog. lazy the over jumps fox brown quick The'"
      ]
     },
     "execution_count": 117,
     "metadata": {},
     "output_type": "execute_result"
    }
   ],
   "source": [
    "\n",
    "def reverse_string_words(text):\n",
    "    for line in text.split('\\n'):\n",
    "        return(' '.join(line.split()[::-1]))\n",
    "s =\"The quick brown fox jumps over the lazy dog.\"\n",
    "reverse_string_words(s)"
   ]
  },
  {
   "cell_type": "markdown",
   "id": "a176e58a",
   "metadata": {},
   "source": [
    "# Q. Write a Python program to check whether a string contains all letters of the\n",
    "alphabet.\n",
    "\n",
    "    INPUT: 'The quick brown fox jumps over the lazy cat\n",
    "    OUTPUT:FALSE"
   ]
  },
  {
   "cell_type": "code",
   "execution_count": 124,
   "id": "4cf9e6ec",
   "metadata": {},
   "outputs": [
    {
     "name": "stdout",
     "output_type": "stream",
     "text": [
      "False\n"
     ]
    }
   ],
   "source": [
    "import string\n",
    "alphabet = set(string.ascii_lowercase)\n",
    "input_string = 'The quick brown fox jumps over the lazy dog'\n",
    "print(set(input_string.lower()) <= alphabet)\n",
    "\n"
   ]
  },
  {
   "cell_type": "markdown",
   "id": "eddce614",
   "metadata": {},
   "source": [
    "# . Write a Python program to count and display vowels in text.\n",
    "\n",
    "    INPUT: resource\n",
    "    OUTPUT: 4 -> ['e', 'o', 'u', 'e']\n"
   ]
  },
  {
   "cell_type": "code",
   "execution_count": 125,
   "id": "e073069d",
   "metadata": {},
   "outputs": [
    {
     "name": "stdout",
     "output_type": "stream",
     "text": [
      "4\n",
      "['e', 'o', 'u', 'e']\n"
     ]
    }
   ],
   "source": [
    "s =\"resource\"\n",
    "\n",
    "def vowel(text):\n",
    "    vowels = \"aeiuoAEIOU\"\n",
    "    print(len([letter for letter in text if letter in vowels]))\n",
    "    print([letter for letter in text if letter in vowels])\n",
    "vowel(s);"
   ]
  },
  {
   "cell_type": "code",
   "execution_count": null,
   "id": "69acf7c3",
   "metadata": {},
   "outputs": [],
   "source": []
  }
 ],
 "metadata": {
  "kernelspec": {
   "display_name": "Python 3 (ipykernel)",
   "language": "python",
   "name": "python3"
  },
  "language_info": {
   "codemirror_mode": {
    "name": "ipython",
    "version": 3
   },
   "file_extension": ".py",
   "mimetype": "text/x-python",
   "name": "python",
   "nbconvert_exporter": "python",
   "pygments_lexer": "ipython3",
   "version": "3.11.3"
  }
 },
 "nbformat": 4,
 "nbformat_minor": 5
}
