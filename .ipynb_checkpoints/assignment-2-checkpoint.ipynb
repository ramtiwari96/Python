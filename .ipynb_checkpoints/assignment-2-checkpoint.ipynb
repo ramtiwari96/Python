{
 "cells": [
  {
   "cell_type": "markdown",
   "id": "c637510f",
   "metadata": {},
   "source": [
    "# Q4. Write a Python program that prints each item and its corresponding type from the following list.\n",
    "\n",
    "    INPUT = [1452, 11.23, 1+2j, True, 'w3resource', (0, -1), [5, 12], {\"class\":'V',\"section\":'A'}]\n",
    "    OUTPUT:\n",
    "    Type of 1452 is <class 'int'>\n",
    "    Type of 11.23 is <class 'float'>\n",
    "    Type of (1+2j) is <class 'complex'>\n",
    "    Type of True is <class 'bool'>\n",
    "    Type of w3resource is <class 'str'>\n",
    "\n",
    "    Type of (0, -1) is <class 'tuple'>\n",
    "    Type of [5, 12] is <class 'list'>\n",
    "    Type of {'class': 'V', 'section': 'A'} is < class 'dict'>"
   ]
  },
  {
   "cell_type": "code",
   "execution_count": 13,
   "id": "4b1e0421",
   "metadata": {},
   "outputs": [
    {
     "name": "stdout",
     "output_type": "stream",
     "text": [
      "Type of 1452 is <class 'int'>\n",
      "Type of 11.23 is <class 'float'>\n",
      "Type of (1+2j) is <class 'complex'>\n",
      "Type of True is <class 'bool'>\n",
      "Type of w3resource is <class 'str'>\n",
      "Type of (0, -1) is <class 'tuple'>\n",
      "Type of [5, 12] is <class 'list'>\n",
      "Type of {'class': 'V', 'section': 'A'} is <class 'dict'>\n"
     ]
    }
   ],
   "source": [
    "a = [1452, 11.23, 1+2j, True, 'w3resource', (0, -1), [5, 12], {\"class\":'V',\"section\":'A'}]\n",
    "for x in a:\n",
    "    print(\"Type of \" +str(x)+ \" is\" , type(x))"
   ]
  },
  {
   "cell_type": "markdown",
   "id": "dd42185e",
   "metadata": {},
   "source": [
    "# Q5. Write a Python program to check the validity of passwords input by users. Validation :\n",
    "\n",
    "    At least 1 letter between [a-z] and 1 letter between [A-Z].\n",
    "    At least 1 number between [0-9].\n",
    "    At least 1 character from [$#@].\n",
    "    Minimum length 6 characters.\n",
    "    Maximum length 16 characters.\n",
    "    \n",
    "    INPUT: Input your password:S3r@100a\n",
    "    OUTPUT:Valid Password"
   ]
  },
  {
   "cell_type": "code",
   "execution_count": 18,
   "id": "96edec20",
   "metadata": {},
   "outputs": [
    {
     "name": "stdout",
     "output_type": "stream",
     "text": [
      "Input your passwordRam@123\n",
      "Valid Password\n"
     ]
    }
   ],
   "source": [
    "import re\n",
    "p= input(\"Input your password\")\n",
    "x = True\n",
    "while x:\n",
    "    if (len(p)<6 or len(p)>12):\n",
    "        break\n",
    "    elif not re.search(\"[a-z]\",p):\n",
    "        break\n",
    "    elif not re.search(\"[0-9]\",p):\n",
    "        break\n",
    "    elif not re.search(\"[A-Z]\",p):\n",
    "        break\n",
    "    elif not re.search(\"[$#@]\",p):\n",
    "        break\n",
    "    elif re.search(\"\\s\",p):\n",
    "\n",
    "        break\n",
    "    else:\n",
    "        print(\"Valid Password\")\n",
    "        x=False\n",
    "        break\n",
    "if x:\n",
    "    print(\"Not a Valid Password\")"
   ]
  },
  {
   "cell_type": "markdown",
   "id": "32c1d6d8",
   "metadata": {},
   "source": [
    "# Q6. Write a Python program to get the Fibonacci series between 0 and 50.\n",
    "    \n",
    "    Note : The Fibonacci Sequence is the series of numbers :\n",
    "    0, 1, 1, 2, 3, 5, 8, 13, 21, ....\n",
    "    Every next number is found by adding up the two numbers before it.\n",
    "    Expected Output : 1 1 2 3 5 8 13 21 34"
   ]
  },
  {
   "cell_type": "code",
   "execution_count": 3,
   "id": "4d5d4db6",
   "metadata": {},
   "outputs": [
    {
     "name": "stdout",
     "output_type": "stream",
     "text": [
      "1\n",
      "1\n",
      "2\n",
      "3\n",
      "5\n",
      "8\n",
      "13\n",
      "21\n",
      "34\n"
     ]
    }
   ],
   "source": [
    "x,y=0,1\n",
    "while y<50:\n",
    "    print(y)\n",
    "    x,y = y,x+y\n",
    "\n",
    "    \n",
    "   "
   ]
  },
  {
   "cell_type": "markdown",
   "id": "5b7b8b23",
   "metadata": {},
   "source": [
    "# Q7. Write a Python program to check whether an alphabet is a vowel or consonant.\n",
    "\n",
    "    OUTPUT:\n",
    "    Input a letter of the alphabet: k\n",
    "    k is a consonant."
   ]
  },
  {
   "cell_type": "code",
   "execution_count": 23,
   "id": "3e380187",
   "metadata": {},
   "outputs": [
    {
     "name": "stdout",
     "output_type": "stream",
     "text": [
      "enter a alphbet : y\n",
      "y is aConsonent\n"
     ]
    }
   ],
   "source": [
    "s = input(\"enter a alphbet : \")\n",
    "\n",
    "\n",
    "if s in ('a','e','i','o','u'):\n",
    "       \n",
    "    print(s, \"is a Vowel\")\n",
    "else:\n",
    "    print(s,\"is a Consonent\")"
   ]
  },
  {
   "cell_type": "markdown",
   "id": "ed2614ad",
   "metadata": {},
   "source": [
    "# Q8. Write a Python program that takes a string as input and replaces all occurrences of a given character with another character.\n",
    "\n",
    "    INPUT: Enter a string: We study at GrowDataSkills\n",
    "    Enter the character to replace: G\n",
    "    Enter the replacement character: H\n",
    "    OUTPUT: Replaced string: We study at HrowDataSkills"
   ]
  },
  {
   "cell_type": "code",
   "execution_count": 26,
   "id": "bc859a5a",
   "metadata": {},
   "outputs": [
    {
     "name": "stdout",
     "output_type": "stream",
     "text": [
      "Enter a StringWe study at GrowDataSkills\n",
      "Enter the character to replaceG\n",
      "Enter the replacement characterH\n",
      "Replaced string :  We study at HrowDataSkills\n"
     ]
    }
   ],
   "source": [
    "s = input(\"Enter a String\")\n",
    "a = input(\"Enter the character to replace\")\n",
    "b= input(\"Enter the replacement character\")\n",
    "\n",
    "new_string = s.replace(a, b)\n",
    "print(\"Replaced string : \",new_string)"
   ]
  },
  {
   "cell_type": "markdown",
   "id": "c4a33236",
   "metadata": {},
   "source": [
    "# Q9: Write a Python function to reverse a list at a specific location.\n",
    "\n",
    "    INPUT: [10,20,30,40,50,60,70,80]\n",
    "    start_pos = 2\n",
    "    end_pos = 4\n",
    "    OUTPUT: Reverse elements of the said list between index position 2 and 4\n",
    "    [10, 20, 50, 40, 30, 60, 70, 80]"
   ]
  },
  {
   "cell_type": "code",
   "execution_count": 27,
   "id": "97b21e48",
   "metadata": {},
   "outputs": [
    {
     "name": "stdout",
     "output_type": "stream",
     "text": [
      "Original list:\n",
      "[10, 20, 30, 40, 50, 60, 70, 80]\n",
      "Reverse elements of the said list between index position 2 and 4\n",
      "[10, 20, 50, 40, 30, 60, 70, 80]\n"
     ]
    }
   ],
   "source": [
    "def reverse_list_in_location(lst, start_pos, end_pos):\n",
    "    while start_pos < end_pos:\n",
    "        lst[start_pos], lst[end_pos] = lst[end_pos], lst[start_pos]\n",
    "        start_pos += 1\n",
    "        end_pos -= 1\n",
    "    return lst\n",
    "\n",
    "nums = [10,20,30,40,50,60,70,80]\n",
    "start_pos = 2\n",
    "end_pos = 4\n",
    "print(\"Original list:\")\n",
    "print(nums)\n",
    "print(\"Reverse elements of the said list between index position \"+str(start_pos)+ \" and \"+str(end_pos))\n",
    "print(reverse_list_in_location(nums,start_pos,end_pos))"
   ]
  },
  {
   "cell_type": "markdown",
   "id": "e3495594",
   "metadata": {},
   "source": [
    "# Q10. Write a Python program that takes a string as input and checks if it is a palindrome (reads the same forwards and backward).\n",
    "\n",
    "    INPUT: Enter a string: GrowDataSkills\n",
    "    OUTPUT: It is not a palindrome"
   ]
  },
  {
   "cell_type": "code",
   "execution_count": 30,
   "id": "4a956c33",
   "metadata": {},
   "outputs": [
    {
     "name": "stdout",
     "output_type": "stream",
     "text": [
      "The string is not a palindrome.\n"
     ]
    }
   ],
   "source": [
    "my_str = 'GrowDataSkills'\n",
    "\n",
    "# make it suitable for caseless comparison\n",
    "my_str = my_str.casefold()\n",
    "\n",
    "# reverse the string\n",
    "rev_str = reversed(my_str)\n",
    "\n",
    "if list(my_str) == list(rev_str):\n",
    "   print(\"The string is a palindrome.\")\n",
    "else:\n",
    "   print(\"The string is not a palindrome.\")"
   ]
  },
  {
   "cell_type": "markdown",
   "id": "7d82e955",
   "metadata": {},
   "source": [
    "# Q11. Write a Python program that takes a sentence as input and capitalizes the first letter of each word.\n",
    "\n",
    "    INPUT: Enter a sentence: we are growdataskills\n",
    "    OUTPUT: Capitalized sentence: We Are Growdataskills\n"
   ]
  },
  {
   "cell_type": "code",
   "execution_count": 40,
   "id": "dd93d27e",
   "metadata": {},
   "outputs": [
    {
     "name": "stdout",
     "output_type": "stream",
     "text": [
      "Enter a sentence: we are growdataskills\n",
      "Capitalized sentence: We Are Growdataskills\n"
     ]
    }
   ],
   "source": [
    "def capitalize_words(sentence):\n",
    "    words = sentence.split()\n",
    "    capitalized_words = [word.capitalize() for word in words]\n",
    "    return \" \".join(capitalized_words)\n",
    "input_sentence = input(\"Enter a sentence: \")\n",
    "print(\"Capitalized sentence:\", capitalize_words(input_sentence))"
   ]
  },
  {
   "cell_type": "markdown",
   "id": "bd16daca",
   "metadata": {},
   "source": [
    "# Q12. Write a Python program that takes two lists as input and returns a new list containing the common elements between the two lists.\n",
    "\n",
    "    INPUT:\n",
    "    list1 = [1, 2, 3, 4, 5]\n",
    "    list2 = [3, 4, 5, 6, 7]\n",
    "    OUTPUT: Common elements: [3, 4, 5]"
   ]
  },
  {
   "cell_type": "code",
   "execution_count": 42,
   "id": "625361ee",
   "metadata": {},
   "outputs": [
    {
     "name": "stdout",
     "output_type": "stream",
     "text": [
      "Common elements: [3, 4, 5]\n"
     ]
    }
   ],
   "source": [
    "def find_common_elements(list1, list2):\n",
    "    common_elements = [item for item in list1 if item in list2]\n",
    "    return common_elements\n",
    "list1 = [1, 2, 3, 4, 5]\n",
    "list2 = [3, 4, 5, 6, 7]\n",
    "print(\"Common elements:\", find_common_elements(list1, list2))\n",
    "\n"
   ]
  },
  {
   "cell_type": "code",
   "execution_count": null,
   "id": "229ade8b",
   "metadata": {},
   "outputs": [],
   "source": []
  }
 ],
 "metadata": {
  "kernelspec": {
   "display_name": "Python 3 (ipykernel)",
   "language": "python",
   "name": "python3"
  },
  "language_info": {
   "codemirror_mode": {
    "name": "ipython",
    "version": 3
   },
   "file_extension": ".py",
   "mimetype": "text/x-python",
   "name": "python",
   "nbconvert_exporter": "python",
   "pygments_lexer": "ipython3",
   "version": "3.11.3"
  }
 },
 "nbformat": 4,
 "nbformat_minor": 5
}
