{
 "cells": [
  {
   "cell_type": "markdown",
   "id": "472df5b6",
   "metadata": {},
   "source": [
    "# if statement"
   ]
  },
  {
   "cell_type": "code",
   "execution_count": 3,
   "id": "26d9b2db",
   "metadata": {},
   "outputs": [],
   "source": [
    "a=17\n",
    "if(a>=18):\n",
    "    print(\"Elegible for vote\")"
   ]
  },
  {
   "cell_type": "code",
   "execution_count": 5,
   "id": "a4257f59",
   "metadata": {},
   "outputs": [
    {
     "name": "stdout",
     "output_type": "stream",
     "text": [
      "Elegible for vote\n"
     ]
    }
   ],
   "source": [
    "a=18\n",
    "if(a>=18):\n",
    "    print(\"Elegible for vote\")\n",
    "if(a<=17):\n",
    "    print(\"not eligible for vote\")"
   ]
  },
  {
   "cell_type": "code",
   "execution_count": 8,
   "id": "865706d8",
   "metadata": {},
   "outputs": [
    {
     "name": "stdout",
     "output_type": "stream",
     "text": [
      "Enter the age89\n",
      "Elegible for vote\n"
     ]
    }
   ],
   "source": [
    "a=int(input(\"Enter the age\"))\n",
    "if(a>=18):\n",
    "    print(\"Elegible for vote\")\n",
    "else:\n",
    "    print(\"not voter\")"
   ]
  },
  {
   "cell_type": "code",
   "execution_count": 12,
   "id": "9394cddb",
   "metadata": {},
   "outputs": [
    {
     "name": "stdout",
     "output_type": "stream",
     "text": [
      "Enter marks20\n",
      "record not found\n"
     ]
    }
   ],
   "source": [
    "a=int(input(\"Enter marks\"))\n",
    "if(a>=85 and a<=100):\n",
    "    print(\"Outstanding\")\n",
    "elif(a>=70 and a<85):\n",
    "    print(\"First division\")\n",
    "elif(a>=60 and a<70):\n",
    "    print(\"Second division\")\n",
    "else:\n",
    "    print(\"record not found\")"
   ]
  },
  {
   "cell_type": "code",
   "execution_count": null,
   "id": "1dd9034e",
   "metadata": {},
   "outputs": [],
   "source": [
    "a=int(input(\"First no\"))\n",
    "b=int(input(\"Second no\"))\n",
    "c=int(input(\"Third no\"))\n",
    "if(a>b) and (a>c):\n",
    "    print(\"A\")\n",
    "elif(b>c):\n",
    "    print(\"B\")\n",
    "else:\n",
    "    print(\"C\")\n",
    "\n",
    "   "
   ]
  },
  {
   "cell_type": "markdown",
   "id": "70febd12",
   "metadata": {},
   "source": []
  },
  {
   "cell_type": "code",
   "execution_count": null,
   "id": "68c135f5",
   "metadata": {},
   "outputs": [],
   "source": []
  },
  {
   "cell_type": "code",
   "execution_count": null,
   "id": "73c52a99",
   "metadata": {},
   "outputs": [],
   "source": []
  },
  {
   "cell_type": "code",
   "execution_count": 1,
   "id": "708481b4",
   "metadata": {},
   "outputs": [
    {
     "name": "stdout",
     "output_type": "stream",
     "text": [
      "First no32\n",
      "Second no4\n",
      "Third no12\n",
      "A\n"
     ]
    }
   ],
   "source": [
    "a=int(input(\"First no\"))\n",
    "b=int(input(\"Second no\"))\n",
    "c=int(input(\"Third no\"))\n",
    "if(a>b) and (a>c):\n",
    "    print(\"A\")\n",
    "elif(b>c):\n",
    "    print(\"B\")\n",
    "else:\n",
    "    print(\"C\")"
   ]
  },
  {
   "cell_type": "markdown",
   "id": "94288290",
   "metadata": {},
   "source": [
    "# Looping statement"
   ]
  },
  {
   "cell_type": "code",
   "execution_count": 2,
   "id": "43ba4ba1",
   "metadata": {},
   "outputs": [
    {
     "name": "stdout",
     "output_type": "stream",
     "text": [
      "1\n",
      "2\n",
      "3\n",
      "4\n",
      "5\n",
      "6\n",
      "7\n",
      "8\n",
      "9\n",
      "10\n"
     ]
    }
   ],
   "source": [
    "a=1\n",
    "while(a<=10):\n",
    "    print(a)\n",
    "    a=a+1"
   ]
  },
  {
   "cell_type": "code",
   "execution_count": 4,
   "id": "5fa52494",
   "metadata": {},
   "outputs": [
    {
     "name": "stdout",
     "output_type": "stream",
     "text": [
      "Enter number19\n",
      "19\n",
      "38\n",
      "57\n",
      "76\n",
      "95\n",
      "114\n",
      "133\n",
      "152\n",
      "171\n",
      "190\n"
     ]
    }
   ],
   "source": [
    "n=int(input(\"Enter number\"))\n",
    "a=1\n",
    "while(a<=10):\n",
    "    c=a*n\n",
    "    print(c)\n",
    "    a=a+1"
   ]
  },
  {
   "cell_type": "markdown",
   "id": "84845a8f",
   "metadata": {},
   "source": [
    "# for statement"
   ]
  },
  {
   "cell_type": "code",
   "execution_count": 5,
   "id": "c7b1c419",
   "metadata": {},
   "outputs": [
    {
     "name": "stdout",
     "output_type": "stream",
     "text": [
      "ram\n",
      "kuldeep\n",
      "ankita\n"
     ]
    }
   ],
   "source": [
    "a=[\"ram\",\"kuldeep\",\"ankita\"]\n",
    "for x in a:\n",
    "    print(x)"
   ]
  },
  {
   "cell_type": "code",
   "execution_count": 6,
   "id": "8f8a87c5",
   "metadata": {},
   "outputs": [
    {
     "name": "stdout",
     "output_type": "stream",
     "text": [
      "R\n",
      "a\n",
      "m\n"
     ]
    }
   ],
   "source": [
    "\n",
    "for x in \"Ram\":\n",
    "    print(x)"
   ]
  },
  {
   "cell_type": "code",
   "execution_count": 9,
   "id": "36e028f0",
   "metadata": {},
   "outputs": [
    {
     "name": "stdout",
     "output_type": "stream",
     "text": [
      "2\n",
      "5\n",
      "8\n",
      "11\n",
      "14\n",
      "17\n",
      "20\n",
      "23\n",
      "26\n",
      "29\n"
     ]
    }
   ],
   "source": [
    "\n",
    "for x in range(2,30,3):\n",
    "    print(x)"
   ]
  },
  {
   "cell_type": "code",
   "execution_count": 15,
   "id": "882bf0f6",
   "metadata": {},
   "outputs": [
    {
     "name": "stdout",
     "output_type": "stream",
     "text": [
      "0\n",
      "1\n",
      "3\n",
      "4\n",
      "5\n"
     ]
    }
   ],
   "source": [
    "for x in range(6):\n",
    "    \n",
    "    if(x==2):continue\n",
    "    print(x)"
   ]
  },
  {
   "cell_type": "code",
   "execution_count": 1,
   "id": "0d080c8f",
   "metadata": {},
   "outputs": [
    {
     "name": "stdout",
     "output_type": "stream",
     "text": [
      "0\n",
      "1\n",
      "2\n",
      "3\n",
      "4\n",
      "5\n",
      "Finished process\n"
     ]
    }
   ],
   "source": [
    "for x in range(6):\n",
    "    \n",
    "    print(x)\n",
    "else:\n",
    "    print(\"Finished process\")"
   ]
  },
  {
   "cell_type": "code",
   "execution_count": null,
   "id": "78c3f207",
   "metadata": {},
   "outputs": [],
   "source": []
  },
  {
   "cell_type": "code",
   "execution_count": null,
   "id": "71160f9c",
   "metadata": {},
   "outputs": [],
   "source": [
    " "
   ]
  }
 ],
 "metadata": {
  "kernelspec": {
   "display_name": "Python 3 (ipykernel)",
   "language": "python",
   "name": "python3"
  },
  "language_info": {
   "codemirror_mode": {
    "name": "ipython",
    "version": 3
   },
   "file_extension": ".py",
   "mimetype": "text/x-python",
   "name": "python",
   "nbconvert_exporter": "python",
   "pygments_lexer": "ipython3",
   "version": "3.11.3"
  }
 },
 "nbformat": 4,
 "nbformat_minor": 5
}
