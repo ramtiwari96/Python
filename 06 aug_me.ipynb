{
 "cells": [
  {
   "cell_type": "markdown",
   "id": "134794bc",
   "metadata": {},
   "source": [
    "# OOPs"
   ]
  },
  {
   "cell_type": "code",
   "execution_count": 7,
   "id": "1b90e527",
   "metadata": {},
   "outputs": [],
   "source": [
    "class phone:\n",
    "    def behave(self):\n",
    "        print(\"this is good\")"
   ]
  },
  {
   "cell_type": "code",
   "execution_count": 8,
   "id": "5b05f696",
   "metadata": {},
   "outputs": [],
   "source": [
    "p1 = phone()"
   ]
  },
  {
   "cell_type": "code",
   "execution_count": 9,
   "id": "1c4fc10a",
   "metadata": {},
   "outputs": [
    {
     "name": "stdout",
     "output_type": "stream",
     "text": [
      "this is good\n"
     ]
    }
   ],
   "source": [
    "p1.behave()"
   ]
  },
  {
   "cell_type": "code",
   "execution_count": 18,
   "id": "a59df8cb",
   "metadata": {},
   "outputs": [],
   "source": [
    "class phone:\n",
    "    def color(self,color):\n",
    "        self.color = color\n",
    "       "
   ]
  },
  {
   "cell_type": "code",
   "execution_count": 19,
   "id": "487b20f2",
   "metadata": {},
   "outputs": [],
   "source": [
    "p1 = phone()"
   ]
  },
  {
   "cell_type": "code",
   "execution_count": 23,
   "id": "a4f25070",
   "metadata": {},
   "outputs": [
    {
     "ename": "TypeError",
     "evalue": "'str' object is not callable",
     "output_type": "error",
     "traceback": [
      "\u001b[1;31m---------------------------------------------------------------------------\u001b[0m",
      "\u001b[1;31mTypeError\u001b[0m                                 Traceback (most recent call last)",
      "Cell \u001b[1;32mIn[23], line 1\u001b[0m\n\u001b[1;32m----> 1\u001b[0m \u001b[38;5;28mprint\u001b[39m(p1\u001b[38;5;241m.\u001b[39mcolor(\u001b[38;5;124m\"\u001b[39m\u001b[38;5;124mred\u001b[39m\u001b[38;5;124m\"\u001b[39m))\n",
      "\u001b[1;31mTypeError\u001b[0m: 'str' object is not callable"
     ]
    }
   ],
   "source": [
    "c\n",
    "\n"
   ]
  },
  {
   "cell_type": "code",
   "execution_count": 27,
   "id": "32633980",
   "metadata": {},
   "outputs": [],
   "source": [
    "class student:\n",
    "    def __init__(self,sid,name,age,salary):\n",
    "        self.sid = sid\n",
    "        self.name = name\n",
    "        self.age=age\n",
    "        self.salary = salary\n",
    "    def show(self):\n",
    "        print(\"Student id = \",self.sid)\n",
    "        print(\"Student Name = \",self.name)\n",
    "        print(\"Student Age = \",self.age)\n",
    "        print(\"Student salary = \",self.salary)\n",
    "       "
   ]
  },
  {
   "cell_type": "code",
   "execution_count": 28,
   "id": "e99e1bb5",
   "metadata": {},
   "outputs": [],
   "source": [
    "s = student(1,\"ram\",12,12000)"
   ]
  },
  {
   "cell_type": "code",
   "execution_count": 29,
   "id": "46821303",
   "metadata": {},
   "outputs": [
    {
     "name": "stdout",
     "output_type": "stream",
     "text": [
      "Student id =  1\n",
      "Student Name =  ram\n",
      "Student Age =  12\n",
      "Student salary =  12000\n"
     ]
    }
   ],
   "source": [
    "s.show()"
   ]
  },
  {
   "cell_type": "code",
   "execution_count": 30,
   "id": "a564d163",
   "metadata": {},
   "outputs": [],
   "source": [
    "import numpy as np"
   ]
  },
  {
   "cell_type": "code",
   "execution_count": 31,
   "id": "f95ea074",
   "metadata": {},
   "outputs": [
    {
     "data": {
      "text/plain": [
       "array(20)"
      ]
     },
     "execution_count": 31,
     "metadata": {},
     "output_type": "execute_result"
    }
   ],
   "source": [
    "a = np.array(20)\n",
    "a"
   ]
  },
  {
   "cell_type": "code",
   "execution_count": 33,
   "id": "5b3b19bd",
   "metadata": {},
   "outputs": [],
   "source": [
    "a= np.array([10,20,30])"
   ]
  },
  {
   "cell_type": "code",
   "execution_count": 34,
   "id": "fdd4a0a2",
   "metadata": {},
   "outputs": [
    {
     "data": {
      "text/plain": [
       "array([10, 20, 30])"
      ]
     },
     "execution_count": 34,
     "metadata": {},
     "output_type": "execute_result"
    }
   ],
   "source": [
    "a"
   ]
  },
  {
   "cell_type": "code",
   "execution_count": 36,
   "id": "e8eaae83",
   "metadata": {},
   "outputs": [
    {
     "data": {
      "text/plain": [
       "array([[10, 20, 30],\n",
       "       [20, 30, 25]])"
      ]
     },
     "execution_count": 36,
     "metadata": {},
     "output_type": "execute_result"
    }
   ],
   "source": [
    "a= np.array([[10,20,30],[20,30,25]])\n",
    "a"
   ]
  },
  {
   "cell_type": "code",
   "execution_count": 37,
   "id": "35c2f0d6",
   "metadata": {},
   "outputs": [],
   "source": [
    "b = np.ndim"
   ]
  },
  {
   "cell_type": "code",
   "execution_count": 39,
   "id": "7c7c9c3f",
   "metadata": {},
   "outputs": [
    {
     "data": {
      "text/plain": [
       "array([[0., 0., 0., 0., 0.],\n",
       "       [0., 0., 0., 0., 0.],\n",
       "       [0., 0., 0., 0., 0.],\n",
       "       [0., 0., 0., 0., 0.],\n",
       "       [0., 0., 0., 0., 0.]])"
      ]
     },
     "execution_count": 39,
     "metadata": {},
     "output_type": "execute_result"
    }
   ],
   "source": [
    "n1 =np.zeros((5,5))\n",
    "n1"
   ]
  },
  {
   "cell_type": "code",
   "execution_count": 40,
   "id": "85f1be93",
   "metadata": {},
   "outputs": [
    {
     "data": {
      "text/plain": [
       "array([[5, 5, 5, 5, 5],\n",
       "       [5, 5, 5, 5, 5],\n",
       "       [5, 5, 5, 5, 5],\n",
       "       [5, 5, 5, 5, 5],\n",
       "       [5, 5, 5, 5, 5]])"
      ]
     },
     "execution_count": 40,
     "metadata": {},
     "output_type": "execute_result"
    }
   ],
   "source": [
    "n1 =np.full((5,5),5)\n",
    "n1"
   ]
  },
  {
   "cell_type": "code",
   "execution_count": 45,
   "id": "4fe8f7db",
   "metadata": {},
   "outputs": [
    {
     "data": {
      "text/plain": [
       "array([[15, 25, 35],\n",
       "       [25, 35, 30],\n",
       "       [30, 31, 15]])"
      ]
     },
     "execution_count": 45,
     "metadata": {},
     "output_type": "execute_result"
    }
   ],
   "source": [
    "a= np.array([[10,20,30],[20,30,25],[25,26,10]])\n",
    "a = a+5\n",
    "a"
   ]
  },
  {
   "cell_type": "code",
   "execution_count": 46,
   "id": "f60d4328",
   "metadata": {},
   "outputs": [
    {
     "data": {
      "text/plain": [
       "array([[ 5, 15, 25],\n",
       "       [15, 25, 20],\n",
       "       [20, 21,  5]])"
      ]
     },
     "execution_count": 46,
     "metadata": {},
     "output_type": "execute_result"
    }
   ],
   "source": [
    "a= np.array([[10,20,30],[20,30,25],[25,26,10]])\n",
    "a = a-5\n",
    "a"
   ]
  },
  {
   "cell_type": "code",
   "execution_count": 47,
   "id": "a61efc02",
   "metadata": {},
   "outputs": [
    {
     "data": {
      "text/plain": [
       "array([[ 50, 100, 150],\n",
       "       [100, 150, 125],\n",
       "       [125, 130,  50]])"
      ]
     },
     "execution_count": 47,
     "metadata": {},
     "output_type": "execute_result"
    }
   ],
   "source": [
    "a= np.array([[10,20,30],[20,30,25],[25,26,10]])\n",
    "a = a*5\n",
    "a"
   ]
  },
  {
   "cell_type": "code",
   "execution_count": 48,
   "id": "ec0eae94",
   "metadata": {},
   "outputs": [
    {
     "data": {
      "text/plain": [
       "array([[2. , 4. , 6. ],\n",
       "       [4. , 6. , 5. ],\n",
       "       [5. , 5.2, 2. ]])"
      ]
     },
     "execution_count": 48,
     "metadata": {},
     "output_type": "execute_result"
    }
   ],
   "source": [
    "a= np.array([[10,20,30],[20,30,25],[25,26,10]])\n",
    "a = a/5\n",
    "a"
   ]
  },
  {
   "cell_type": "code",
   "execution_count": 51,
   "id": "15c2f28f",
   "metadata": {},
   "outputs": [
    {
     "data": {
      "text/plain": [
       "array([10, 11, 12, 13, 14, 15, 16, 17, 18, 19])"
      ]
     },
     "execution_count": 51,
     "metadata": {},
     "output_type": "execute_result"
    }
   ],
   "source": [
    "n2 = np.arange(10,20)\n",
    "n2"
   ]
  },
  {
   "cell_type": "code",
   "execution_count": 53,
   "id": "4f9652fc",
   "metadata": {},
   "outputs": [
    {
     "data": {
      "text/plain": [
       "array([10, 13, 16, 19])"
      ]
     },
     "execution_count": 53,
     "metadata": {},
     "output_type": "execute_result"
    }
   ],
   "source": [
    "n2 = np.arange(10,20,3)\n",
    "n2"
   ]
  },
  {
   "cell_type": "code",
   "execution_count": 55,
   "id": "3842db91",
   "metadata": {},
   "outputs": [
    {
     "data": {
      "text/plain": [
       "array([34, 21, 22, 43, 22])"
      ]
     },
     "execution_count": 55,
     "metadata": {},
     "output_type": "execute_result"
    }
   ],
   "source": [
    "n1 = np.array([12,12,23,34,45])\n",
    "n2 = np.array([34,21,22,43,22])\n",
    "n2"
   ]
  },
  {
   "cell_type": "code",
   "execution_count": 58,
   "id": "ca380462",
   "metadata": {},
   "outputs": [
    {
     "data": {
      "text/plain": [
       "array([[12, 12, 23, 34, 45],\n",
       "       [34, 21, 22, 43, 22]])"
      ]
     },
     "execution_count": 58,
     "metadata": {},
     "output_type": "execute_result"
    }
   ],
   "source": [
    "np.vstack((n1,n2))"
   ]
  },
  {
   "cell_type": "code",
   "execution_count": 59,
   "id": "47859895",
   "metadata": {},
   "outputs": [
    {
     "data": {
      "text/plain": [
       "array([12, 12, 23, 34, 45, 34, 21, 22, 43, 22])"
      ]
     },
     "execution_count": 59,
     "metadata": {},
     "output_type": "execute_result"
    }
   ],
   "source": [
    "np.hstack((n1,n2))"
   ]
  },
  {
   "cell_type": "code",
   "execution_count": 60,
   "id": "ed9bb17d",
   "metadata": {},
   "outputs": [
    {
     "data": {
      "text/plain": [
       "array([[12, 34],\n",
       "       [12, 21],\n",
       "       [23, 22],\n",
       "       [34, 43],\n",
       "       [45, 22]])"
      ]
     },
     "execution_count": 60,
     "metadata": {},
     "output_type": "execute_result"
    }
   ],
   "source": [
    "np.column_stack((n1,n2))"
   ]
  },
  {
   "cell_type": "code",
   "execution_count": 3,
   "id": "d61d4036",
   "metadata": {},
   "outputs": [
    {
     "data": {
      "text/plain": [
       "array([12, 23, 45])"
      ]
     },
     "execution_count": 3,
     "metadata": {},
     "output_type": "execute_result"
    }
   ],
   "source": [
    "import numpy as np\n",
    "n1 = np.array([12,12,23,34,45])\n",
    "n2 = np.array([34,21,22,43,22])\n",
    "n3 = np.setdiff1d(n1,n2)\n",
    "n3"
   ]
  },
  {
   "cell_type": "code",
   "execution_count": 4,
   "id": "8db38b5c",
   "metadata": {},
   "outputs": [
    {
     "data": {
      "text/plain": [
       "array([21, 22, 43])"
      ]
     },
     "execution_count": 4,
     "metadata": {},
     "output_type": "execute_result"
    }
   ],
   "source": [
    "n1 = np.array([12,12,23,34,45])\n",
    "n2 = np.array([34,21,22,43,22])\n",
    "n3 = np.setdiff1d(n2,n1)\n",
    "n3"
   ]
  },
  {
   "cell_type": "code",
   "execution_count": 5,
   "id": "824e6c52",
   "metadata": {},
   "outputs": [
    {
     "data": {
      "text/plain": [
       "array([34])"
      ]
     },
     "execution_count": 5,
     "metadata": {},
     "output_type": "execute_result"
    }
   ],
   "source": [
    "n1 = np.array([12,12,23,34,45])\n",
    "n2 = np.array([34,21,22,43,22])\n",
    "n3 = np.intersect1d(n1,n2)\n",
    "n3"
   ]
  },
  {
   "cell_type": "code",
   "execution_count": null,
   "id": "97e1ab28",
   "metadata": {},
   "outputs": [],
   "source": []
  }
 ],
 "metadata": {
  "kernelspec": {
   "display_name": "Python 3 (ipykernel)",
   "language": "python",
   "name": "python3"
  },
  "language_info": {
   "codemirror_mode": {
    "name": "ipython",
    "version": 3
   },
   "file_extension": ".py",
   "mimetype": "text/x-python",
   "name": "python",
   "nbconvert_exporter": "python",
   "pygments_lexer": "ipython3",
   "version": "3.11.3"
  }
 },
 "nbformat": 4,
 "nbformat_minor": 5
}
