{
 "cells": [
  {
   "cell_type": "code",
   "execution_count": 1,
   "id": "4a0a6e8e",
   "metadata": {},
   "outputs": [],
   "source": [
    "def msg():\n",
    "    print(\"this is ram here\")"
   ]
  },
  {
   "cell_type": "code",
   "execution_count": 2,
   "id": "aac056d8",
   "metadata": {},
   "outputs": [
    {
     "name": "stdout",
     "output_type": "stream",
     "text": [
      "this is ram here\n"
     ]
    }
   ],
   "source": [
    "msg()"
   ]
  },
  {
   "cell_type": "code",
   "execution_count": 3,
   "id": "5fda3f2e",
   "metadata": {},
   "outputs": [],
   "source": [
    "def greet(name):\n",
    "    print(\"Good Morning : \",name)"
   ]
  },
  {
   "cell_type": "code",
   "execution_count": 4,
   "id": "d49d9e55",
   "metadata": {},
   "outputs": [
    {
     "name": "stdout",
     "output_type": "stream",
     "text": [
      "Good Morning :  ram\n"
     ]
    }
   ],
   "source": [
    "greet(\"ram\")"
   ]
  },
  {
   "cell_type": "code",
   "execution_count": 9,
   "id": "697b4e0b",
   "metadata": {},
   "outputs": [],
   "source": [
    "def demo(name):\n",
    "    print(name + \" \"+  \"Sharma\")"
   ]
  },
  {
   "cell_type": "code",
   "execution_count": 13,
   "id": "15d5c4d6",
   "metadata": {},
   "outputs": [
    {
     "name": "stdout",
     "output_type": "stream",
     "text": [
      "ajay Sharma\n",
      "sahdev Sharma\n",
      "ram Sharma\n"
     ]
    }
   ],
   "source": [
    "demo(\"ajay\")\n",
    "demo(\"sahdev\")\n",
    "demo(\"ram\")"
   ]
  },
  {
   "cell_type": "code",
   "execution_count": 16,
   "id": "db4307fd",
   "metadata": {},
   "outputs": [],
   "source": [
    "def sum(a,b):\n",
    "    c=a+b\n",
    "    print(\"Sum\",c)"
   ]
  },
  {
   "cell_type": "code",
   "execution_count": 17,
   "id": "af892fdc",
   "metadata": {},
   "outputs": [
    {
     "name": "stdout",
     "output_type": "stream",
     "text": [
      "Sum 35\n"
     ]
    }
   ],
   "source": [
    "sum(12,23)"
   ]
  },
  {
   "cell_type": "code",
   "execution_count": 18,
   "id": "3a5445ba",
   "metadata": {},
   "outputs": [],
   "source": [
    "def contact():\n",
    "    print(\"Aks University,Satna\")\n",
    "    print(\"Address - Sherganj satna (MP)\")\n",
    "    print(\"Email - aks@gmail.com\")\n",
    "    print(\"contact - 000000000\")"
   ]
  },
  {
   "cell_type": "code",
   "execution_count": 19,
   "id": "9e740013",
   "metadata": {},
   "outputs": [
    {
     "name": "stdout",
     "output_type": "stream",
     "text": [
      "Aks University,Satna\n",
      "Address - Sherganj satna (MP)\n",
      "Email - aks@gmail.com\n",
      "contact - 000000000\n"
     ]
    }
   ],
   "source": [
    "contact()"
   ]
  },
  {
   "cell_type": "code",
   "execution_count": 21,
   "id": "420a0e50",
   "metadata": {},
   "outputs": [
    {
     "name": "stdout",
     "output_type": "stream",
     "text": [
      "Enter Nameram\n",
      "Age23\n",
      "Enter Hindi Marks90\n",
      "Enter Math Marks89\n",
      "Name :  ram\n",
      "Age :  23\n",
      "Hindi Marks :  90\n",
      "Math Marks :  89\n",
      "Aks University,Satna\n",
      "Address - Sherganj satna (MP)\n",
      "Email - aks@gmail.com\n",
      "contact - 000000000\n",
      "Enter Nameashok\n",
      "Age34\n",
      "Enter Hindi Marks45\n",
      "Enter Math Marks45\n",
      "Name :  ashok\n",
      "Age :  34\n",
      "Hindi Marks :  45\n",
      "Math Marks :  45\n",
      "Aks University,Satna\n",
      "Address - Sherganj satna (MP)\n",
      "Email - aks@gmail.com\n",
      "contact - 000000000\n",
      "Enter Nameajay\n",
      "Age34\n",
      "Enter Hindi Marks34\n",
      "Enter Math Marks32\n",
      "Name :  ajay\n",
      "Age :  34\n",
      "Hindi Marks :  34\n",
      "Math Marks :  32\n",
      "Aks University,Satna\n",
      "Address - Sherganj satna (MP)\n",
      "Email - aks@gmail.com\n",
      "contact - 000000000\n"
     ]
    }
   ],
   "source": [
    "for i in range(3):\n",
    "    a=input(\"Enter Name\")\n",
    "    b=input(\"Age\")\n",
    "    c=input(\"Enter Hindi Marks\")\n",
    "    d=input(\"Enter Math Marks\")\n",
    "    print(\"Name : \",a)\n",
    "    print(\"Age : \",b)\n",
    "    print(\"Hindi Marks : \",c)\n",
    "    print(\"Math Marks : \",d)\n",
    "    contact()"
   ]
  },
  {
   "cell_type": "code",
   "execution_count": null,
   "id": "e2366861",
   "metadata": {},
   "outputs": [],
   "source": [
    "def electricitybill(n):\n",
    "    if n<500:\n",
    "        print(\"you have to pay\"+n*5)\n",
    "    elif n>500 and n<=700:\n",
    "         print(\"you have to pay\"+n*10)\n",
    "    else:\n",
    "         print(\"you have to pay\"+n*20)"
   ]
  },
  {
   "cell_type": "code",
   "execution_count": 42,
   "id": "1026794a",
   "metadata": {},
   "outputs": [
    {
     "name": "stdout",
     "output_type": "stream",
     "text": [
      "Enter Nameram\n",
      "Enter Unit500\n",
      "Name is :  ram\n",
      "you have to pay 10000\n",
      "Enter Nameashok\n",
      "Enter Unit7005\n",
      "Name is :  ashok\n",
      "you have to pay 140100\n"
     ]
    }
   ],
   "source": [
    "for i in range(2):\n",
    "     a=input(\"Enter Name\")\n",
    "     n=int(input(\"Enter Unit\"))\n",
    "     \n",
    "     print(\"Name is : \",a)\n",
    "     electricitybill(n)\n",
    "    "
   ]
  },
  {
   "cell_type": "code",
   "execution_count": null,
   "id": "899bdbe9",
   "metadata": {},
   "outputs": [],
   "source": []
  },
  {
   "cell_type": "code",
   "execution_count": 46,
   "id": "198e7d42",
   "metadata": {},
   "outputs": [
    {
     "name": "stdout",
     "output_type": "stream",
     "text": [
      "45\n"
     ]
    }
   ],
   "source": [
    "l=[1,2,3,4,5,6,7,8,9]\n",
    "a=0\n",
    "for i in l:\n",
    "    a=a+i\n",
    "    i=i+1\n",
    "print(a)\n",
    "    "
   ]
  },
  {
   "cell_type": "code",
   "execution_count": 48,
   "id": "fd3b049b",
   "metadata": {},
   "outputs": [
    {
     "name": "stdout",
     "output_type": "stream",
     "text": [
      "120\n"
     ]
    }
   ],
   "source": [
    "l=[1,2,3,4,5]\n",
    "a=1\n",
    "for i in l:\n",
    "    a=a*i\n",
    "    i=i+1\n",
    "print(a)"
   ]
  },
  {
   "cell_type": "code",
   "execution_count": 51,
   "id": "eb343de6",
   "metadata": {},
   "outputs": [
    {
     "name": "stdout",
     "output_type": "stream",
     "text": [
      "enter firsta\n",
      "enter secondb\n",
      "enter thirdx\n",
      "enter fourthf\n",
      "enter fifthr\n"
     ]
    },
    {
     "data": {
      "text/plain": [
       "('a', 'b', 'x', 'f', 'r')"
      ]
     },
     "execution_count": 51,
     "metadata": {},
     "output_type": "execute_result"
    }
   ],
   "source": [
    "a=input(\"enter first\")\n",
    "b=input(\"enter second\")\n",
    "c=input(\"enter third\")\n",
    "d=input(\"enter fourth\")\n",
    "e=input(\"enter fifth\")\n",
    "\n",
    "t=(a,b,c,d,e)\n",
    "t"
   ]
  },
  {
   "cell_type": "code",
   "execution_count": 50,
   "id": "e5a29aff",
   "metadata": {},
   "outputs": [
    {
     "data": {
      "text/plain": [
       "('r', 'e', 'w', 'q', 't')"
      ]
     },
     "execution_count": 50,
     "metadata": {},
     "output_type": "execute_result"
    }
   ],
   "source": [
    "t"
   ]
  },
  {
   "cell_type": "code",
   "execution_count": null,
   "id": "e1a0e710",
   "metadata": {},
   "outputs": [],
   "source": []
  }
 ],
 "metadata": {
  "kernelspec": {
   "display_name": "Python 3 (ipykernel)",
   "language": "python",
   "name": "python3"
  },
  "language_info": {
   "codemirror_mode": {
    "name": "ipython",
    "version": 3
   },
   "file_extension": ".py",
   "mimetype": "text/x-python",
   "name": "python",
   "nbconvert_exporter": "python",
   "pygments_lexer": "ipython3",
   "version": "3.11.3"
  }
 },
 "nbformat": 4,
 "nbformat_minor": 5
}
