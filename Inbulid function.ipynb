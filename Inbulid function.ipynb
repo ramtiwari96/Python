{
 "cells": [
  {
   "cell_type": "markdown",
   "id": "497daf4b",
   "metadata": {},
   "source": [
    "# Inbuild function"
   ]
  },
  {
   "cell_type": "markdown",
   "id": "0fc0b2c5",
   "metadata": {},
   "source": [
    "abs funtion"
   ]
  },
  {
   "cell_type": "code",
   "execution_count": 1,
   "id": "394c456c",
   "metadata": {},
   "outputs": [
    {
     "data": {
      "text/plain": [
       "20"
      ]
     },
     "execution_count": 1,
     "metadata": {},
     "output_type": "execute_result"
    }
   ],
   "source": [
    "abs(-20)"
   ]
  },
  {
   "cell_type": "code",
   "execution_count": 2,
   "id": "931a98d9",
   "metadata": {},
   "outputs": [
    {
     "data": {
      "text/plain": [
       "20.2"
      ]
     },
     "execution_count": 2,
     "metadata": {},
     "output_type": "execute_result"
    }
   ],
   "source": [
    "abs(-20.20)"
   ]
  },
  {
   "cell_type": "markdown",
   "id": "89fde358",
   "metadata": {},
   "source": [
    "binary function"
   ]
  },
  {
   "cell_type": "code",
   "execution_count": 3,
   "id": "088b4054",
   "metadata": {},
   "outputs": [
    {
     "data": {
      "text/plain": [
       "'0b1010'"
      ]
     },
     "execution_count": 3,
     "metadata": {},
     "output_type": "execute_result"
    }
   ],
   "source": [
    "bin(10)"
   ]
  },
  {
   "cell_type": "code",
   "execution_count": 4,
   "id": "83aa2acb",
   "metadata": {},
   "outputs": [
    {
     "name": "stdout",
     "output_type": "stream",
     "text": [
      "0b1111\n"
     ]
    }
   ],
   "source": [
    "a=bin(15)\n",
    "print(a)"
   ]
  },
  {
   "cell_type": "markdown",
   "id": "cddf292e",
   "metadata": {},
   "source": [
    "# bytes function"
   ]
  },
  {
   "cell_type": "code",
   "execution_count": 5,
   "id": "8d83af07",
   "metadata": {},
   "outputs": [
    {
     "name": "stdout",
     "output_type": "stream",
     "text": [
      "b'\\x00\\x00\\x00\\x00'\n"
     ]
    }
   ],
   "source": [
    "a= bytes(4)\n",
    "print(a)"
   ]
  },
  {
   "cell_type": "code",
   "execution_count": 6,
   "id": "5050e3f3",
   "metadata": {},
   "outputs": [
    {
     "name": "stdout",
     "output_type": "stream",
     "text": [
      "b'\\x00\\x00\\x00\\x00\\x00\\x00\\x00\\x00'\n"
     ]
    }
   ],
   "source": [
    "a= bytes(8)\n",
    "print(a)"
   ]
  },
  {
   "cell_type": "markdown",
   "id": "72bbd4b0",
   "metadata": {},
   "source": [
    "# char function"
   ]
  },
  {
   "cell_type": "code",
   "execution_count": 7,
   "id": "841fc5d6",
   "metadata": {},
   "outputs": [
    {
     "name": "stdout",
     "output_type": "stream",
     "text": [
      "A\n"
     ]
    }
   ],
   "source": [
    "a= chr(65)\n",
    "print(a)"
   ]
  },
  {
   "cell_type": "code",
   "execution_count": 8,
   "id": "be566f51",
   "metadata": {},
   "outputs": [
    {
     "name": "stdout",
     "output_type": "stream",
     "text": [
      "a\n"
     ]
    }
   ],
   "source": [
    "a= chr(97)\n",
    "print(a)"
   ]
  },
  {
   "cell_type": "code",
   "execution_count": 10,
   "id": "37feed1d",
   "metadata": {},
   "outputs": [
    {
     "name": "stdout",
     "output_type": "stream",
     "text": [
      "^\n"
     ]
    }
   ],
   "source": [
    "a= chr(94)\n",
    "print(a)"
   ]
  },
  {
   "cell_type": "code",
   "execution_count": 11,
   "id": "949306a4",
   "metadata": {},
   "outputs": [
    {
     "name": "stdout",
     "output_type": "stream",
     "text": [
      "Z\n"
     ]
    }
   ],
   "source": [
    "a= chr(90)\n",
    "print(a)"
   ]
  },
  {
   "cell_type": "markdown",
   "id": "609b3a08",
   "metadata": {},
   "source": [
    "# complex number"
   ]
  },
  {
   "cell_type": "code",
   "execution_count": 12,
   "id": "cf4fc177",
   "metadata": {},
   "outputs": [
    {
     "name": "stdout",
     "output_type": "stream",
     "text": [
      "(5+6j)\n"
     ]
    }
   ],
   "source": [
    "a=complex(5,6)\n",
    "print(a)"
   ]
  },
  {
   "cell_type": "code",
   "execution_count": 13,
   "id": "8296595d",
   "metadata": {},
   "outputs": [
    {
     "name": "stdout",
     "output_type": "stream",
     "text": [
      "(5.5+6.55j)\n"
     ]
    }
   ],
   "source": [
    "a=complex(5.5,6.55)\n",
    "print(a)"
   ]
  },
  {
   "cell_type": "markdown",
   "id": "6cca72f8",
   "metadata": {},
   "source": [
    "# float function"
   ]
  },
  {
   "cell_type": "code",
   "execution_count": 14,
   "id": "0a9700e2",
   "metadata": {},
   "outputs": [
    {
     "data": {
      "text/plain": [
       "3.0"
      ]
     },
     "execution_count": 14,
     "metadata": {},
     "output_type": "execute_result"
    }
   ],
   "source": [
    "float(3)"
   ]
  },
  {
   "cell_type": "code",
   "execution_count": 15,
   "id": "0ca083ef",
   "metadata": {},
   "outputs": [
    {
     "data": {
      "text/plain": [
       "3.555"
      ]
     },
     "execution_count": 15,
     "metadata": {},
     "output_type": "execute_result"
    }
   ],
   "source": [
    "float(3.555)"
   ]
  },
  {
   "cell_type": "code",
   "execution_count": 16,
   "id": "0dca3652",
   "metadata": {},
   "outputs": [
    {
     "name": "stdout",
     "output_type": "stream",
     "text": [
      "3.0\n",
      "<class 'float'>\n"
     ]
    }
   ],
   "source": [
    "a=float(3)\n",
    "print(a)\n",
    "print(type(a))"
   ]
  },
  {
   "cell_type": "code",
   "execution_count": 18,
   "id": "75404bfa",
   "metadata": {},
   "outputs": [
    {
     "name": "stdout",
     "output_type": "stream",
     "text": [
      "2\n",
      "<class 'int'>\n"
     ]
    }
   ],
   "source": [
    "a=int(2.333)\n",
    "print(a)\n",
    "print(type(a))"
   ]
  },
  {
   "cell_type": "code",
   "execution_count": 19,
   "id": "ae524350",
   "metadata": {},
   "outputs": [
    {
     "name": "stdout",
     "output_type": "stream",
     "text": [
      "12\n",
      "<class 'str'>\n"
     ]
    }
   ],
   "source": [
    "a=str(12)\n",
    "print(a)\n",
    "print(type(a))"
   ]
  },
  {
   "cell_type": "code",
   "execution_count": 20,
   "id": "647bd38c",
   "metadata": {},
   "outputs": [
    {
     "name": "stdout",
     "output_type": "stream",
     "text": [
      "enter the number12\n",
      "12\n"
     ]
    }
   ],
   "source": [
    "a=input(\"enter the number\")\n",
    "print(a)"
   ]
  },
  {
   "cell_type": "code",
   "execution_count": 21,
   "id": "d55d3737",
   "metadata": {},
   "outputs": [
    {
     "name": "stdout",
     "output_type": "stream",
     "text": [
      "enter the numberthis is ram tiwari\n",
      "this is ram tiwari\n"
     ]
    }
   ],
   "source": [
    "a=input(\"enter the number\")\n",
    "print(a)"
   ]
  },
  {
   "cell_type": "code",
   "execution_count": 23,
   "id": "9b69d52e",
   "metadata": {},
   "outputs": [
    {
     "name": "stdout",
     "output_type": "stream",
     "text": [
      "enter the number12\n",
      "enter the number12\n",
      "Sum= 24\n"
     ]
    }
   ],
   "source": [
    "a=int(input(\"enter the number\"))\n",
    "b=int(input(\"enter the number\"))\n",
    "\n",
    "c=a+b\n",
    "print(\"Sum=\",c)"
   ]
  },
  {
   "cell_type": "code",
   "execution_count": 31,
   "id": "eb208538",
   "metadata": {},
   "outputs": [
    {
     "name": "stdout",
     "output_type": "stream",
     "text": [
      "10000000\n"
     ]
    }
   ],
   "source": [
    "a=format(10000000,'-')\n",
    "print(a)"
   ]
  },
  {
   "cell_type": "markdown",
   "id": "7b371b4e",
   "metadata": {},
   "source": [
    "# len function"
   ]
  },
  {
   "cell_type": "code",
   "execution_count": 34,
   "id": "897e2ff7",
   "metadata": {},
   "outputs": [
    {
     "name": "stdout",
     "output_type": "stream",
     "text": [
      "['a', 'b', 'c', '4', '5']\n",
      "5\n"
     ]
    }
   ],
   "source": [
    "mylist = [\"a\",\"b\",\"c\",\"4\",\"5\"]\n",
    "print(mylist)\n",
    "print(len(mylist))"
   ]
  },
  {
   "cell_type": "markdown",
   "id": "05fe9f0f",
   "metadata": {},
   "source": [
    "# max and min function"
   ]
  },
  {
   "cell_type": "code",
   "execution_count": 35,
   "id": "e6d89831",
   "metadata": {},
   "outputs": [
    {
     "data": {
      "text/plain": [
       "111"
      ]
     },
     "execution_count": 35,
     "metadata": {},
     "output_type": "execute_result"
    }
   ],
   "source": [
    "max(12,23,111)"
   ]
  },
  {
   "cell_type": "code",
   "execution_count": 36,
   "id": "f3181f05",
   "metadata": {},
   "outputs": [
    {
     "data": {
      "text/plain": [
       "2"
      ]
     },
     "execution_count": 36,
     "metadata": {},
     "output_type": "execute_result"
    }
   ],
   "source": [
    "min(12,23,44,2)"
   ]
  },
  {
   "cell_type": "code",
   "execution_count": 39,
   "id": "8208b702",
   "metadata": {},
   "outputs": [
    {
     "name": "stdout",
     "output_type": "stream",
     "text": [
      "36\n"
     ]
    }
   ],
   "source": [
    "a=(1,2,3,4,23,3)\n",
    "b=sum(a)\n",
    "print(b)"
   ]
  },
  {
   "cell_type": "markdown",
   "id": "8615e463",
   "metadata": {},
   "source": [
    "# sort function"
   ]
  },
  {
   "cell_type": "code",
   "execution_count": 40,
   "id": "00c816e0",
   "metadata": {},
   "outputs": [
    {
     "name": "stdout",
     "output_type": "stream",
     "text": [
      "[1, 1, 2, 2, 3, 3, 4, 5, 5, 5, 6, 23]\n"
     ]
    }
   ],
   "source": [
    "a=(1,23,3,4,5,2,1,5,3,2,5,6)\n",
    "c=sorted(a)\n",
    "print(c)"
   ]
  },
  {
   "cell_type": "code",
   "execution_count": 41,
   "id": "3cf50ae1",
   "metadata": {},
   "outputs": [
    {
     "name": "stdout",
     "output_type": "stream",
     "text": [
      "['a', 'a', 'e', 'e', 'h', 'w']\n"
     ]
    }
   ],
   "source": [
    "a=('a','e','w','h','e','a')\n",
    "c=sorted(a)\n",
    "print(c)"
   ]
  },
  {
   "cell_type": "markdown",
   "id": "560a5a56",
   "metadata": {},
   "source": [
    "# Slice"
   ]
  },
  {
   "cell_type": "code",
   "execution_count": 43,
   "id": "72d20487",
   "metadata": {},
   "outputs": [
    {
     "name": "stdout",
     "output_type": "stream",
     "text": [
      "('a', 'e')\n"
     ]
    }
   ],
   "source": [
    "a=('a','e','w','h','e','a')\n",
    "x=slice(2)\n",
    "print(a[x])"
   ]
  },
  {
   "cell_type": "code",
   "execution_count": 45,
   "id": "859d4076",
   "metadata": {},
   "outputs": [
    {
     "name": "stdout",
     "output_type": "stream",
     "text": [
      "('h', 'e', 'a')\n"
     ]
    }
   ],
   "source": [
    "a=('a','e','w','h','e','a')\n",
    "x=slice(3,6)\n",
    "print(a[x])"
   ]
  },
  {
   "cell_type": "code",
   "execution_count": null,
   "id": "4cad2ef2",
   "metadata": {},
   "outputs": [],
   "source": []
  }
 ],
 "metadata": {
  "kernelspec": {
   "display_name": "Python 3 (ipykernel)",
   "language": "python",
   "name": "python3"
  },
  "language_info": {
   "codemirror_mode": {
    "name": "ipython",
    "version": 3
   },
   "file_extension": ".py",
   "mimetype": "text/x-python",
   "name": "python",
   "nbconvert_exporter": "python",
   "pygments_lexer": "ipython3",
   "version": "3.11.3"
  }
 },
 "nbformat": 4,
 "nbformat_minor": 5
}
